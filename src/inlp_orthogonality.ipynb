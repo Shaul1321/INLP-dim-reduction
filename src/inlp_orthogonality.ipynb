{
 "cells": [
  {
   "cell_type": "code",
   "execution_count": 4,
   "metadata": {},
   "outputs": [],
   "source": [
    "import numpy as np\n",
    "import random\n",
    "import matplotlib\n",
    "import matplotlib.pyplot as plt"
   ]
  },
  {
   "cell_type": "code",
   "execution_count": 180,
   "metadata": {},
   "outputs": [],
   "source": [
    "def simulate_gradient_descent(X_projected, Y, w_init, num_steps = 1000, alpha = 0.01):\n",
    "    \n",
    "    \"\"\"\n",
    "    :param X_projected: original X, projected to the nullspace of a linear calssifier\n",
    "    :param P: a dxd projection matrix to dimensionality d-1\n",
    "    :param w_init: the initial value of w for the SGD\n",
    "    :parm num_steps: number of SGD steps\n",
    "    :parma alpha: learning rate\n",
    "    \"\"\"\n",
    "    \n",
    "    w = w_init.copy()\n",
    "    \n",
    "    for i in range(num_steps):\n",
    "        \n",
    "        x = random.choice(X_projected)\n",
    "        w = w - alpha * x # SGD update\n",
    "        \n",
    "    return w\n",
    "        \n",
    "\n",
    "def plot_orthogonality_vs_number_of_sgd_steps(X, Y, w1, P, initialize_by_zero_vector, dim, do_sgd_func):\n",
    "    \"\"\"\n",
    "    :param X data matrix\n",
    "    :param w1 a random direction in the dim-dimensional space\n",
    "    :param P a projection matrix to w1's nullsapce\n",
    "    :param initialize_by_zero_vector: bool, whether to initialize w2 by the zero vector\n",
    "    :param dim dimensionality \n",
    "    :param do_sgd_func a function that runs SGD\n",
    "    \"\"\"\n",
    "    \n",
    "    # project X with P\n",
    "    X_projected = P.dot(X.T).T\n",
    "    \n",
    "    # init w2\n",
    "    \n",
    "    if initialize_by_zero_vector:\n",
    "        w2_init = np.zeros((1,dim))\n",
    "    else:\n",
    "        w2_init = np.random.rand(1, dim) - 0.5\n",
    "    \n",
    "    dot_product_results = [] # will store the result of w1.dot(w2) \n",
    "    num_sgd_steps = range(1,10000,250)\n",
    "    \n",
    "    for num_steps in num_sgd_steps:\n",
    "        \n",
    "        # run SGD for num_steps to find w2\n",
    "        w2 = do_sgd_func(X_projected, Y, w2_init, num_steps, alpha = 1)\n",
    "        dot_product_results.append(w2.dot(w1.T).item())\n",
    "    \n",
    "    plt.plot(num_sgd_steps, dot_product_results)\n",
    "    plt.xlabel(\"Number of SGD steps\")\n",
    "    plt.ylabel(\"w1.dot(w2)\")\n",
    "    plt.ylim([-0.5, 0.5])\n",
    "    plt.title(\"orthogonality vs. # SGD steps, initialized_by_zero_vector ={}\".format(initialize_by_zero_vector))\n",
    "    plt.show()\n",
    "    print(dot_product_results)"
   ]
  },
  {
   "cell_type": "markdown",
   "metadata": {},
   "source": [
    "## Experiment 1 - simualte SGD with zero initialization"
   ]
  },
  {
   "cell_type": "code",
   "execution_count": 232,
   "metadata": {},
   "outputs": [],
   "source": [
    "dim = 100\n",
    "num_points = 5000\n",
    "\n",
    "w1 = np.random.rand(1, dim) - 0.5 # initialize the first classifier randomly\n",
    "w1 /= np.linalg.norm(w1)\n",
    "\n",
    "X = np.random.rand(num_points, dim)\n",
    "P = np.eye(dim) - w1.T.dot(w1)\n",
    "assert np.allclose(P.dot(P) - P, 0.0)"
   ]
  },
  {
   "cell_type": "code",
   "execution_count": 183,
   "metadata": {},
   "outputs": [
    {
     "data": {
      "image/png": "[encoded data removed]",
      "text/plain": [
       "<Figure size 432x288 with 1 Axes>"
      ]
     },
     "metadata": {
      "needs_background": "light"
     },
     "output_type": "display_data"
    },
    {
     "name": "stdout",
     "output_type": "stream",
     "text": [
      "[-1.1102230246251565e-16, -5.684341886080802e-14, -1.7053025658242404e-13, -3.410605131648481e-13, -5.684341886080801e-13, -1.1368683772161603e-13, 4.547473508864641e-13, -1.2505552149377763e-12, 2.5011104298755527e-12, 3.410605131648481e-12, -1.1368683772161603e-12, -2.2737367544323206e-13, 3.183231456205249e-12, -2.2737367544323206e-13, -9.094947017729282e-13, -2.0463630789890885e-12, -3.410605131648481e-12, 2.2737367544323206e-13, -1.8189894035458565e-12, -3.183231456205249e-12, 1.8189894035458565e-12, 5.002220859751105e-12, -1.3642420526593924e-12, 7.275957614183426e-12, -1.77351466845721e-11, -5.9117155615240335e-12, -1.3642420526593924e-12, 5.002220859751105e-12, 1.4551915228366852e-11, 6.366462912410498e-12, -1.3642420526593924e-12, 7.275957614183426e-12, 1.9554136088117957e-11, -9.549694368615746e-12, 1.77351466845721e-11, 1.5006662579253316e-11, 5.9117155615240335e-12, -7.275957614183426e-12, 5.4569682106375694e-12, -1.1823431123048067e-11]\n"
     ]
    }
   ],
   "source": [
    "plot_orthogonality_vs_number_of_sgd_steps(X, None, w1, P, initialize_by_zero_vector = True, dim = dim,\n",
    "                                          do_sgd_func = simulate_gradient_descent)"
   ]
  },
  {
   "cell_type": "code",
   "execution_count": 184,
   "metadata": {},
   "outputs": [
    {
     "data": {
      "image/png": "[encoded data removed]",
      "text/plain": [
       "<Figure size 432x288 with 1 Axes>"
      ]
     },
     "metadata": {
      "needs_background": "light"
     },
     "output_type": "display_data"
    },
    {
     "name": "stdout",
     "output_type": "stream",
     "text": [
      "[-0.27309675333504846, -0.2730967533350679, -0.27309675333501104, -0.27309675333543737, -0.2730967533350963, -0.27309675333435735, -0.2730967533346984, -0.2730967533354942, -0.27309675333253836, -0.2730967533336752, -0.27309675333526684, -0.27309675333617633, -0.27309675333526684, -0.2730967533314015, -0.27309675333685846, -0.2730967533366311, -0.2730967533382227, -0.2730967533329931, -0.2730967533432249, -0.2730967533375406, -0.2730967533398143, -0.27309675333253836, -0.2730967533329931, -0.27309675333845007, -0.27309675333253836, -0.2730967533329931, -0.2730967533302646, -0.27309675334709027, -0.2730967533270814, -0.27309675333935957, -0.2730967533261719, -0.2730967533234434, -0.2730967533293551, -0.2730967533293551, -0.27309675331889594, -0.2730967533070725, -0.2730967533416333, -0.2730967533416333, -0.2730967533243529, -0.27309675333162886]\n"
     ]
    }
   ],
   "source": [
    "plot_orthogonality_vs_number_of_sgd_steps(X, None, w1, P, initialize_by_zero_vector = False, dim = dim,\n",
    "                                          do_sgd_func = simulate_gradient_descent)"
   ]
  },
  {
   "cell_type": "markdown",
   "metadata": {},
   "source": [
    "## Experiment 2 - Logisitc Regression"
   ]
  },
  {
   "cell_type": "code",
   "execution_count": 236,
   "metadata": {},
   "outputs": [],
   "source": [
    "dim = 30\n",
    "num_points = 2000\n",
    "X = np.random.rand(num_points, dim) - 0.5\n",
    "noise = 0.01 * (np.random.rand(*X.shape) - 0.5)\n",
    "w1 = np.random.rand(1, dim) - 0.5\n",
    "w1 /= np.linalg.norm(w1)\n",
    "P = np.eye(dim) - w1.T.dot(w1)\n",
    "assert np.allclose(P.dot(P) - P, 0.0)\n",
    "Y = np.sum(3*X - 1.5 + noise, axis = 1) < 0 # yi =1 iff sum(3x_i - 1.5) < 1 "
   ]
  },
  {
   "cell_type": "code",
   "execution_count": 237,
   "metadata": {},
   "outputs": [],
   "source": [
    "def sigmoid(x):\n",
    "    \n",
    "    return 1./(1 + np.e**(-x))\n",
    "\n",
    "def do_sgd_for_logistic_regression(X_projected, Y, w_init, num_steps = 1000, alpha = 0.01):\n",
    "    \n",
    "    \"\"\"\n",
    "    :param X_projected: original X, projected to the nullspace of a linear calssifier\n",
    "    :param P: a dxd projection matrix to dimensionality d-1\n",
    "    :param w_init: the initial value of w for the SGD\n",
    "    :parm num_steps: number of SGD steps\n",
    "    :parma alpha: learning rate\n",
    "    \"\"\"\n",
    "    \n",
    "    w = w_init.copy()\n",
    "    \n",
    "    for i in range(num_steps):\n",
    "        \n",
    "        j = random.choice(range(len(X_projected)))\n",
    "        x,y = X_projected[j], Y[j]\n",
    "        y_hat = sigmoid(w.dot(x))\n",
    "        x = random.choice(X_projected)\n",
    "        w = w + alpha * (y-y_hat) * x # SGD update\n",
    "        \n",
    "    return w"
   ]
  },
  {
   "cell_type": "code",
   "execution_count": 248,
   "metadata": {},
   "outputs": [
    {
     "name": "stdout",
     "output_type": "stream",
     "text": [
      "[0.14393236]\n"
     ]
    },
    {
     "data": {
      "image/png": "[encoded data removed]",
      "text/plain": [
       "<Figure size 432x288 with 1 Axes>"
      ]
     },
     "metadata": {
      "needs_background": "light"
     },
     "output_type": "display_data"
    },
    {
     "name": "stdout",
     "output_type": "stream",
     "text": [
      "[-0.16277863397056, -0.1627786339705617, -0.1627786339705638, -0.16277863397055614, -0.1627786339705568, -0.16277863397055548, -0.16277863397056436, -0.16277863397058034, -0.16277863397057502, -0.16277863397052306, -0.16277863397057146, -0.1627786339705437, -0.16277863397058256, -0.16277863397057324, -0.16277863397062653, -0.1627786339706443, -0.16277863397053505, -0.1627786339705546, -0.16277863397050663, -0.16277863397052528, -0.1627786339705759, -0.16277863397055725, -0.1627786339705075, -0.16277863397047554, -0.16277863397066117, -0.16277863397054482, -0.16277863397053505, -0.16277863397058123, -0.16277863397050396, -0.16277863397057857, -0.16277863397055548, -0.1627786339705004, -0.16277863397054304, -0.16277863397046133, -0.1627786339703432, -0.1627786339706141, -0.16277863397051107, -0.16277863397053238, -0.16277863397061232, -0.16277863397052528]\n"
     ]
    }
   ],
   "source": [
    "w_init = np.random.rand(dim) - 0.5\n",
    "w2 = do_sgd_for_logistic_regression(P.dot(X.T).T, Y, w_init, num_steps = 10000)\n",
    "plot_orthogonality_vs_number_of_sgd_steps(X, Y, w1, P, initialize_by_zero_vector = False, dim = dim,\n",
    "                                          do_sgd_func = do_sgd_for_logistic_regression)"
   ]
  },
  {
   "cell_type": "code",
   "execution_count": 210,
   "metadata": {},
   "outputs": [
    {
     "data": {
      "text/plain": [
       "(1, 30)"
      ]
     },
     "execution_count": 210,
     "metadata": {},
     "output_type": "execute_result"
    }
   ],
   "source": [
    "w1.shape"
   ]
  },
  {
   "cell_type": "code",
   "execution_count": 233,
   "metadata": {},
   "outputs": [
    {
     "data": {
      "text/plain": [
       "array([[ 1.11022302e-16, -3.68628739e-18, -1.08420217e-19, ...,\n",
       "        -8.67361738e-19,  1.62630326e-19,  2.16840434e-19],\n",
       "       [-3.68628739e-18,  6.66133815e-16,  5.63785130e-18, ...,\n",
       "        -1.30104261e-18, -2.16840434e-19, -2.16840434e-19],\n",
       "       [-1.08420217e-19,  5.63785130e-18,  0.00000000e+00, ...,\n",
       "         0.00000000e+00,  6.50521303e-19,  3.25260652e-19],\n",
       "       ...,\n",
       "       [-8.67361738e-19, -1.30104261e-18,  0.00000000e+00, ...,\n",
       "         0.00000000e+00, -1.08420217e-19, -1.08420217e-19],\n",
       "       [ 1.62630326e-19, -2.16840434e-19,  6.50521303e-19, ...,\n",
       "        -1.08420217e-19,  0.00000000e+00,  5.42101086e-20],\n",
       "       [ 2.16840434e-19, -2.16840434e-19,  3.25260652e-19, ...,\n",
       "        -1.08420217e-19,  5.42101086e-20,  0.00000000e+00]])"
      ]
     },
     "execution_count": 233,
     "metadata": {},
     "output_type": "execute_result"
    }
   ],
   "source": [
    "dim = 1000\n",
    "w = np.random.rand(1, dim) - 0.5\n",
    "w /= np.linalg.norm(w)\n",
    "p = np.eye(dim) - w.T.dot(w)\n",
    "p.dot(p) - p"
   ]
  },
  {
   "cell_type": "code",
   "execution_count": 231,
   "metadata": {},
   "outputs": [
    {
     "data": {
      "text/plain": [
       "array([[ 0.9581911 , -0.01030005, -0.01961775, ..., -0.02108107,\n",
       "        -0.06617038,  0.06715876],\n",
       "       [-0.01030005,  0.99746248, -0.00483303, ..., -0.00519354,\n",
       "        -0.01630175,  0.01654525],\n",
       "       [-0.01961775, -0.00483303,  0.99079488, ..., -0.00989175,\n",
       "        -0.03104875,  0.03151252],\n",
       "       ...,\n",
       "       [-0.02108107, -0.00519354, -0.00989175, ...,  0.98937041,\n",
       "        -0.03336473,  0.03386309],\n",
       "       [-0.06617038, -0.01630175, -0.03104875, ..., -0.03336473,\n",
       "         0.89527304,  0.10629125],\n",
       "       [ 0.06715876,  0.01654525,  0.03151252, ...,  0.03386309,\n",
       "         0.10629125,  0.89212109]])"
      ]
     },
     "execution_count": 231,
     "metadata": {},
     "output_type": "execute_result"
    }
   ],
   "source": [
    "np.eye(1000) - w.T.dot(w)"
   ]
  },
  {
   "cell_type": "code",
   "execution_count": 222,
   "metadata": {},
   "outputs": [
    {
     "data": {
      "text/plain": [
       "(30, 30)"
      ]
     },
     "execution_count": 222,
     "metadata": {},
     "output_type": "execute_result"
    }
   ],
   "source": [
    " np.eye(dim).shape"
   ]
  },
  {
   "cell_type": "code",
   "execution_count": 223,
   "metadata": {},
   "outputs": [
    {
     "data": {
      "text/plain": [
       "array([[ 0.751486  ,  0.12675639,  0.18739248,  0.02416376,  0.02646068,\n",
       "         0.16754062,  0.09472155,  0.01643354,  0.1864847 , -0.1937892 ,\n",
       "         0.17635414, -0.14546516, -0.07806891, -0.10549904, -0.05528724,\n",
       "        -0.18345914,  0.14275012,  0.0337639 ,  0.22595749,  0.04715236,\n",
       "         0.24912254,  0.15633495,  0.03385572, -0.02273282, -0.18465344,\n",
       "        -0.19523811, -0.09213035, -0.136215  , -0.14878495, -0.17047768],\n",
       "       [ 0.12675639,  0.93534698, -0.09558091, -0.0123249 , -0.01349646,\n",
       "        -0.08545532, -0.04831342, -0.00838205, -0.09511789,  0.0988436 ,\n",
       "        -0.08995072,  0.07419557,  0.03981962,  0.05381056,  0.02819966,\n",
       "         0.09357468, -0.07281074, -0.01722153, -0.11525127, -0.02405041,\n",
       "        -0.12706678, -0.07973979, -0.01726836,  0.01159504,  0.09418384,\n",
       "         0.09958263,  0.04699176,  0.06947746,  0.07588886,  0.08695339],\n",
       "       [ 0.18739248, -0.09558091,  0.85869633, -0.01822073, -0.01995273,\n",
       "        -0.12633434, -0.07142497, -0.01239174, -0.14061916,  0.14612713,\n",
       "        -0.13298019,  0.10968829,  0.05886802,  0.07955177,  0.04168945,\n",
       "         0.13833773, -0.10764101, -0.02545974, -0.17038369, -0.03555533,\n",
       "        -0.18785135, -0.11788468, -0.02552897,  0.01714173,  0.13923829,\n",
       "         0.14721969,  0.06947108,  0.10271319,  0.11219159,  0.12854904],\n",
       "       [ 0.02416376, -0.0123249 , -0.01822073,  0.99765049, -0.00257285,\n",
       "        -0.01629047, -0.00921006, -0.00159788, -0.01813246,  0.0188427 ,\n",
       "        -0.01714744,  0.01414401,  0.00759087,  0.01025799,  0.00537574,\n",
       "         0.01783828, -0.01388002, -0.00328296, -0.02197052, -0.00458476,\n",
       "        -0.02422293, -0.01520091, -0.00329189,  0.00221038,  0.0179544 ,\n",
       "         0.01898358,  0.00895811,  0.01324459,  0.0144668 ,  0.01657605],\n",
       "       [ 0.02646068, -0.01349646, -0.01995273, -0.00257285,  0.99718258,\n",
       "        -0.01783899, -0.01008553, -0.00174977, -0.01985607,  0.02063382,\n",
       "        -0.01877741,  0.01548849,  0.00831243,  0.01123307,  0.00588674,\n",
       "         0.01953392, -0.0151994 , -0.00359503, -0.02405896, -0.00502058,\n",
       "        -0.02652547, -0.01664586, -0.00360481,  0.00242049,  0.01966109,\n",
       "         0.02078809,  0.00980963,  0.01450357,  0.01584197,  0.01815171],\n",
       "       [ 0.16754062, -0.08545532, -0.12633434, -0.01629047, -0.01783899,\n",
       "         0.88704919, -0.0638584 , -0.01107899, -0.12572234,  0.13064681,\n",
       "        -0.11889262,  0.09806821,  0.0526317 ,  0.07112426,  0.03727298,\n",
       "         0.1236826 , -0.09623781, -0.0227626 , -0.1523337 , -0.0317887 ,\n",
       "        -0.16795088, -0.10539629, -0.0228245 ,  0.01532578,  0.12448776,\n",
       "         0.13162362,  0.0621115 ,  0.09183203,  0.10030631,  0.11493089],\n",
       "       [ 0.09472155, -0.04831342, -0.07142497, -0.00921006, -0.01008553,\n",
       "        -0.0638584 ,  0.96389672, -0.00626367, -0.07107897,  0.07386309,\n",
       "        -0.06721769,  0.0554443 ,  0.0297561 ,  0.04021115,  0.02107283,\n",
       "         0.06992577, -0.05440946, -0.01286917, -0.08612409, -0.01797221,\n",
       "        -0.09495349, -0.05958734, -0.01290417,  0.00866466,  0.07038098,\n",
       "         0.07441535,  0.03511565,  0.05191859,  0.05670965,  0.06497787],\n",
       "       [ 0.01643354, -0.00838205, -0.01239174, -0.00159788, -0.00174977,\n",
       "        -0.01107899, -0.00626367,  0.9989133 , -0.01233171,  0.01281474,\n",
       "        -0.01166181,  0.0096192 ,  0.00516248,  0.00697636,  0.00365599,\n",
       "         0.01213164, -0.00943967, -0.00223271, -0.01494194, -0.00311805,\n",
       "        -0.01647378, -0.01033799, -0.00223878,  0.00150326,  0.01221062,\n",
       "         0.01291055,  0.00609232,  0.00900752,  0.00983873,  0.01127321],\n",
       "       [ 0.1864847 , -0.09511789, -0.14061916, -0.01813246, -0.01985607,\n",
       "        -0.12572234, -0.07107897, -0.01233171,  0.86006203,  0.14541926,\n",
       "        -0.132336  ,  0.10915694,  0.05858285,  0.0791664 ,  0.0414875 ,\n",
       "         0.13766759, -0.10711957, -0.0253364 , -0.16955831, -0.0353831 ,\n",
       "        -0.18694135, -0.11731362, -0.02540531,  0.01705869,  0.13856379,\n",
       "         0.14650652,  0.06913454,  0.10221563,  0.11164811,  0.12792631],\n",
       "       [-0.1937892 ,  0.0988436 ,  0.14612713,  0.0188427 ,  0.02063382,\n",
       "         0.13064681,  0.07386309,  0.01281474,  0.14541926,  0.84888476,\n",
       "         0.13751952, -0.11343255, -0.0608775 , -0.0822673 , -0.04311254,\n",
       "        -0.14305995,  0.11131538,  0.02632882,  0.17619981,  0.03676903,\n",
       "         0.19426374,  0.12190872,  0.02640042, -0.01772687, -0.14399125,\n",
       "        -0.15224509, -0.0718425 , -0.10621935, -0.1160213 , -0.13293711],\n",
       "       [ 0.17635414, -0.08995072, -0.13298019, -0.01714744, -0.01877741,\n",
       "        -0.11889262, -0.06721769, -0.01166181, -0.132336  ,  0.13751952,\n",
       "         0.874853  ,  0.10322711,  0.0554004 ,  0.07486577,  0.03923374,\n",
       "         0.13018896, -0.10130043, -0.02396003, -0.16034726, -0.03346095,\n",
       "        -0.17678598, -0.11094069, -0.02402519,  0.016132  ,  0.13103647,\n",
       "         0.13854772,  0.06537889,  0.09666288,  0.10558295,  0.12097687],\n",
       "       [-0.14546516,  0.07419557,  0.10968829,  0.01414401,  0.01548849,\n",
       "         0.09806821,  0.0554443 ,  0.0096192 ,  0.10915694, -0.11343255,\n",
       "         0.10322711,  0.91485344, -0.04569685, -0.0617528 , -0.03236183,\n",
       "        -0.10738596,  0.08355734,  0.01976336,  0.13226193,  0.02760016,\n",
       "         0.14582136,  0.09150908,  0.0198171 , -0.01330643, -0.10808502,\n",
       "        -0.11428066, -0.05392757, -0.07973208, -0.08708977, -0.09978739],\n",
       "       [-0.07806891,  0.03981962,  0.05886802,  0.00759087,  0.00831243,\n",
       "         0.0526317 ,  0.0297561 ,  0.00516248,  0.05858285, -0.0608775 ,\n",
       "         0.0554004 , -0.04569685,  0.9754752 , -0.03314178, -0.0173681 ,\n",
       "        -0.05763239,  0.04484394,  0.01060669,  0.07098294,  0.01481258,\n",
       "         0.07826008,  0.04911152,  0.01063554, -0.00714136, -0.05800757,\n",
       "        -0.06133267, -0.0289421 , -0.04279098, -0.04673974, -0.05355436],\n",
       "       [-0.10549904,  0.05381056,  0.07955177,  0.01025799,  0.01123307,\n",
       "         0.07112426,  0.04021115,  0.00697636,  0.0791664 , -0.0822673 ,\n",
       "         0.07486577, -0.0617528 , -0.03314178,  0.9552136 , -0.02347051,\n",
       "        -0.07788199,  0.06060021,  0.01433344,  0.09592336,  0.0200171 ,\n",
       "         0.10575738,  0.06636724,  0.01437242, -0.00965053, -0.07838899,\n",
       "        -0.08288239, -0.03911113, -0.05782593, -0.06316212, -0.0723711 ],\n",
       "       [-0.05528724,  0.02819966,  0.04168945,  0.00537574,  0.00588674,\n",
       "         0.03727298,  0.02107283,  0.00365599,  0.0414875 , -0.04311254,\n",
       "         0.03923374, -0.03236183, -0.0173681 , -0.02347051,  0.98770017,\n",
       "        -0.0408144 ,  0.03175781,  0.0075115 ,  0.05026906,  0.01049005,\n",
       "         0.05542262,  0.03478004,  0.00753193, -0.0050574 , -0.0410801 ,\n",
       "        -0.04343488, -0.02049636, -0.03030393, -0.03310039, -0.0379264 ],\n",
       "       [-0.18345914,  0.09357468,  0.13833773,  0.01783828,  0.01953392,\n",
       "         0.1236826 ,  0.06992577,  0.01213164,  0.13766759, -0.14305995,\n",
       "         0.13018896, -0.10738596, -0.05763239, -0.07788199, -0.0408144 ,\n",
       "         0.86456595,  0.10538165,  0.02492534,  0.16680737,  0.03480903,\n",
       "         0.18390839,  0.1154103 ,  0.02499313, -0.01678193, -0.13631571,\n",
       "        -0.14412957, -0.06801289, -0.10055726, -0.10983671, -0.12585082],\n",
       "       [ 0.14275012, -0.07281074, -0.10764101, -0.01388002, -0.0151994 ,\n",
       "        -0.09623781, -0.05440946, -0.00943967, -0.10711957,  0.11131538,\n",
       "        -0.10130043,  0.08355734,  0.04484394,  0.06060021,  0.03175781,\n",
       "         0.10538165,  0.91800222, -0.01939448, -0.12979332, -0.02708502,\n",
       "        -0.14309967, -0.08980111, -0.01944723,  0.01305807,  0.10606767,\n",
       "         0.11214766,  0.05292104,  0.07824391,  0.08546428,  0.0979249 ],\n",
       "       [ 0.0337639 , -0.01722153, -0.02545974, -0.00328296, -0.00359503,\n",
       "        -0.0227626 , -0.01286917, -0.00223271, -0.0253364 ,  0.02632882,\n",
       "        -0.02396003,  0.01976336,  0.01060669,  0.01433344,  0.0075115 ,\n",
       "         0.02492534, -0.01939448,  0.99541273, -0.0306993 , -0.00640627,\n",
       "        -0.03384658, -0.02124016, -0.00459975,  0.00308855,  0.0250876 ,\n",
       "         0.02652567,  0.01251712,  0.0185066 ,  0.0202144 ,  0.02316164],\n",
       "       [ 0.22595749, -0.11525127, -0.17038369, -0.02197052, -0.02405896,\n",
       "        -0.1523337 , -0.08612409, -0.01494194, -0.16955831,  0.17619981,\n",
       "        -0.16034726,  0.13226193,  0.07098294,  0.09592336,  0.05026906,\n",
       "         0.16680737, -0.12979332, -0.0306993 ,  0.79455167, -0.04287255,\n",
       "        -0.2265108 , -0.14214512, -0.03078279,  0.02066946,  0.16789327,\n",
       "         0.17751721,  0.08376809,  0.12385137,  0.1352804 ,  0.15500418],\n",
       "       [ 0.04715236, -0.02405041, -0.03555533, -0.00458476, -0.00502058,\n",
       "        -0.0317887 , -0.01797221, -0.00311805, -0.0353831 ,  0.03676903,\n",
       "        -0.03346095,  0.02760016,  0.01481258,  0.0200171 ,  0.01049005,\n",
       "         0.03480903, -0.02708502, -0.00640627, -0.04287255,  0.99105344,\n",
       "        -0.04726783, -0.02966256, -0.00642369,  0.00431326,  0.03503564,\n",
       "         0.03704394,  0.01748056,  0.02584506,  0.02823005,  0.03234597],\n",
       "       [ 0.24912254, -0.12706678, -0.18785135, -0.02422293, -0.02652547,\n",
       "        -0.16795088, -0.09495349, -0.01647378, -0.18694135,  0.19426374,\n",
       "        -0.17678598,  0.14582136,  0.07826008,  0.10575738,  0.05542262,\n",
       "         0.18390839, -0.14309967, -0.03384658, -0.2265108 , -0.04726783,\n",
       "         0.75026742, -0.15671777, -0.03393863,  0.02278849,  0.1851056 ,\n",
       "         0.1957162 ,  0.09235595,  0.13654856,  0.14914929,  0.17089514],\n",
       "       [ 0.15633495, -0.07973979, -0.11788468, -0.01520091, -0.01664586,\n",
       "        -0.10539629, -0.05958734, -0.01033799, -0.11731362,  0.12190872,\n",
       "        -0.11094069,  0.09150908,  0.04911152,  0.06636724,  0.03478004,\n",
       "         0.1154103 , -0.08980111, -0.02124016, -0.14214512, -0.02966256,\n",
       "        -0.15671777,  0.90165296, -0.02129793,  0.01430074,  0.11616161,\n",
       "         0.1228202 ,  0.05795727,  0.08569   ,  0.0935975 ,  0.10724394],\n",
       "       [ 0.03385572, -0.01726836, -0.02552897, -0.00329189, -0.00360481,\n",
       "        -0.0228245 , -0.01290417, -0.00223878, -0.02540531,  0.02640042,\n",
       "        -0.02402519,  0.0198171 ,  0.01063554,  0.01437242,  0.00753193,\n",
       "         0.02499313, -0.01944723, -0.00459975, -0.03078279, -0.00642369,\n",
       "        -0.03393863, -0.02129793,  0.99538775,  0.00309695,  0.02515583,\n",
       "         0.02659781,  0.01255116,  0.01855693,  0.02026937,  0.02322463],\n",
       "       [-0.02273282,  0.01159504,  0.01714173,  0.00221038,  0.00242049,\n",
       "         0.01532578,  0.00866466,  0.00150326,  0.01705869, -0.01772687,\n",
       "         0.016132  , -0.01330643, -0.00714136, -0.00965053, -0.0050574 ,\n",
       "        -0.01678193,  0.01305807,  0.00308855,  0.02066946,  0.00431326,\n",
       "         0.02278849,  0.01430074,  0.00309695,  0.99792051, -0.01689118,\n",
       "        -0.01785941, -0.00842763, -0.01246027, -0.01361011, -0.01559445],\n",
       "       [-0.18465344,  0.09418384,  0.13923829,  0.0179544 ,  0.01966109,\n",
       "         0.12448776,  0.07038098,  0.01221062,  0.13856379, -0.14399125,\n",
       "         0.13103647, -0.10808502, -0.05800757, -0.07838899, -0.0410801 ,\n",
       "        -0.13631571,  0.10606767,  0.0250876 ,  0.16789327,  0.03503564,\n",
       "         0.1851056 ,  0.11616161,  0.02515583, -0.01689118,  0.8627969 ,\n",
       "        -0.14506784, -0.06845565, -0.10121188, -0.11055173, -0.12667009],\n",
       "       [-0.19523811,  0.09958263,  0.14721969,  0.01898358,  0.02078809,\n",
       "         0.13162362,  0.07441535,  0.01291055,  0.14650652, -0.15224509,\n",
       "         0.13854772, -0.11428066, -0.06133267, -0.08288239, -0.04343488,\n",
       "        -0.14412957,  0.11214766,  0.02652567,  0.17751721,  0.03704394,\n",
       "         0.1957162 ,  0.1228202 ,  0.02659781, -0.01785941, -0.14506784,\n",
       "         0.84661661, -0.07237965, -0.10701353, -0.11688876, -0.13393105],\n",
       "       [-0.09213035,  0.04699176,  0.06947108,  0.00895811,  0.00980963,\n",
       "         0.0621115 ,  0.03511565,  0.00609232,  0.06913454, -0.0718425 ,\n",
       "         0.06537889, -0.05392757, -0.0289421 , -0.03911113, -0.02049636,\n",
       "        -0.06801289,  0.05292104,  0.01251712,  0.08376809,  0.01748056,\n",
       "         0.09235595,  0.05795727,  0.01255116, -0.00842763, -0.06845565,\n",
       "        -0.07237965,  0.96584498, -0.05049831, -0.0551583 , -0.06320034],\n",
       "       [-0.136215  ,  0.06947746,  0.10271319,  0.01324459,  0.01450357,\n",
       "         0.09183203,  0.05191859,  0.00900752,  0.10221563, -0.10621935,\n",
       "         0.09666288, -0.07973208, -0.04279098, -0.05782593, -0.03030393,\n",
       "        -0.10055726,  0.07824391,  0.0185066 ,  0.12385137,  0.02584506,\n",
       "         0.13654856,  0.08569   ,  0.01855693, -0.01246027, -0.10121188,\n",
       "        -0.10701353, -0.05049831,  0.9253381 , -0.08155171, -0.09344189],\n",
       "       [-0.14878495,  0.07588886,  0.11219159,  0.0144668 ,  0.01584197,\n",
       "         0.10030631,  0.05670965,  0.00983873,  0.11164811, -0.1160213 ,\n",
       "         0.10558295, -0.08708977, -0.04673974, -0.06316212, -0.03310039,\n",
       "        -0.10983671,  0.08546428,  0.0202144 ,  0.1352804 ,  0.02823005,\n",
       "         0.14914929,  0.0935975 ,  0.02026937, -0.01361011, -0.11055173,\n",
       "        -0.11688876, -0.0551583 , -0.08155171,  0.91092268, -0.10206473],\n",
       "       [-0.17047768,  0.08695339,  0.12854904,  0.01657605,  0.01815171,\n",
       "         0.11493089,  0.06497787,  0.01127321,  0.12792631, -0.13293711,\n",
       "         0.12097687, -0.09978739, -0.05355436, -0.0723711 , -0.0379264 ,\n",
       "        -0.12585082,  0.0979249 ,  0.02316164,  0.15500418,  0.03234597,\n",
       "         0.17089514,  0.10724394,  0.02322463, -0.01559445, -0.12667009,\n",
       "        -0.13393105, -0.06320034, -0.09344189, -0.10206473,  0.88305431]])"
      ]
     },
     "execution_count": 223,
     "metadata": {},
     "output_type": "execute_result"
    }
   ],
   "source": [
    "p"
   ]
  },
  {
   "cell_type": "code",
   "execution_count": null,
   "metadata": {},
   "outputs": [],
   "source": []
  }
 ],
 "metadata": {
  "kernelspec": {
   "display_name": "Python 3",
   "language": "python",
   "name": "python3"
  },
  "language_info": {
   "codemirror_mode": {
    "name": "ipython",
    "version": 3
   },
   "file_extension": ".py",
   "mimetype": "text/x-python",
   "name": "python",
   "nbconvert_exporter": "python",
   "pygments_lexer": "ipython3",
   "version": "3.7.5"
  }
 },
 "nbformat": 4,
 "nbformat_minor": 2
}
